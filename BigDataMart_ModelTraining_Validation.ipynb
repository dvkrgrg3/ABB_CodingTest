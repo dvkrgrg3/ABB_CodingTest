{
 "cells": [
  {
   "cell_type": "code",
   "execution_count": 1,
   "id": "a4572aa4",
   "metadata": {},
   "outputs": [],
   "source": [
    "import numpy as np\n",
    "import pandas as pd\n",
    "import matplotlib.pyplot as plt\n",
    "from sklearn.preprocessing import OrdinalEncoder\n",
    "from sklearn.preprocessing import OneHotEncoder\n",
    "from sklearn.model_selection import train_test_split\n",
    "from sklearn.tree import DecisionTreeRegressor\n",
    "from sklearn.metrics import mean_absolute_error, mean_squared_error, r2_score\n",
    "from sklearn.ensemble import RandomForestRegressor\n",
    "import xgboost as xgb\n",
    "from xgboost import XGBRegressor\n",
    "from sklearn.model_selection import GridSearchCV"
   ]
  },
  {
   "cell_type": "code",
   "execution_count": 81,
   "id": "e2825db9",
   "metadata": {},
   "outputs": [
    {
     "name": "stdout",
     "output_type": "stream",
     "text": [
      "Collecting xgboostNote: you may need to restart the kernel to use updated packages.\n",
      "\n",
      "  Downloading xgboost-2.1.3-py3-none-win_amd64.whl (124.9 MB)\n",
      "     -------------------------------------- 124.9/124.9 MB 1.6 MB/s eta 0:00:00\n",
      "Requirement already satisfied: numpy in c:\\users\\divakar garg\\anaconda3\\lib\\site-packages (from xgboost) (1.23.5)\n",
      "Requirement already satisfied: scipy in c:\\users\\divakar garg\\anaconda3\\lib\\site-packages (from xgboost) (1.10.0)\n",
      "Installing collected packages: xgboost\n",
      "Successfully installed xgboost-2.1.3\n"
     ]
    }
   ],
   "source": [
    "pip install xgboost"
   ]
  },
  {
   "cell_type": "markdown",
   "id": "32268108",
   "metadata": {},
   "source": [
    "## Importing updated train data based on Data cleansing"
   ]
  },
  {
   "cell_type": "code",
   "execution_count": 14,
   "id": "64b56fb3",
   "metadata": {},
   "outputs": [],
   "source": [
    "sales_data = pd.read_csv('updated_train.csv')"
   ]
  },
  {
   "cell_type": "code",
   "execution_count": 15,
   "id": "4e214d6a",
   "metadata": {},
   "outputs": [
    {
     "data": {
      "text/html": [
       "<div>\n",
       "<style scoped>\n",
       "    .dataframe tbody tr th:only-of-type {\n",
       "        vertical-align: middle;\n",
       "    }\n",
       "\n",
       "    .dataframe tbody tr th {\n",
       "        vertical-align: top;\n",
       "    }\n",
       "\n",
       "    .dataframe thead th {\n",
       "        text-align: right;\n",
       "    }\n",
       "</style>\n",
       "<table border=\"1\" class=\"dataframe\">\n",
       "  <thead>\n",
       "    <tr style=\"text-align: right;\">\n",
       "      <th></th>\n",
       "      <th>Unnamed: 0</th>\n",
       "      <th>Item_Identifier</th>\n",
       "      <th>Item_Weight</th>\n",
       "      <th>Item_Fat_Content</th>\n",
       "      <th>Item_Visibility</th>\n",
       "      <th>Item_Type</th>\n",
       "      <th>Item_MRP</th>\n",
       "      <th>Outlet_Identifier</th>\n",
       "      <th>Outlet_Establishment_Year</th>\n",
       "      <th>Outlet_Size</th>\n",
       "      <th>Outlet_Location_Type</th>\n",
       "      <th>Outlet_Type</th>\n",
       "      <th>Item_Outlet_Sales</th>\n",
       "      <th>item_count</th>\n",
       "    </tr>\n",
       "  </thead>\n",
       "  <tbody>\n",
       "    <tr>\n",
       "      <th>0</th>\n",
       "      <td>0</td>\n",
       "      <td>FDA15</td>\n",
       "      <td>9.30</td>\n",
       "      <td>low fat</td>\n",
       "      <td>0.016047</td>\n",
       "      <td>Dairy</td>\n",
       "      <td>249.8092</td>\n",
       "      <td>OUT049</td>\n",
       "      <td>1999</td>\n",
       "      <td>Medium</td>\n",
       "      <td>Tier 1</td>\n",
       "      <td>Supermarket Type1</td>\n",
       "      <td>3735.1380</td>\n",
       "      <td>14.951963</td>\n",
       "    </tr>\n",
       "    <tr>\n",
       "      <th>1</th>\n",
       "      <td>1</td>\n",
       "      <td>DRC01</td>\n",
       "      <td>5.92</td>\n",
       "      <td>regular</td>\n",
       "      <td>0.019278</td>\n",
       "      <td>Soft Drinks</td>\n",
       "      <td>48.2692</td>\n",
       "      <td>OUT018</td>\n",
       "      <td>2009</td>\n",
       "      <td>Medium</td>\n",
       "      <td>Tier 3</td>\n",
       "      <td>Supermarket Type2</td>\n",
       "      <td>443.4228</td>\n",
       "      <td>9.186454</td>\n",
       "    </tr>\n",
       "    <tr>\n",
       "      <th>2</th>\n",
       "      <td>2</td>\n",
       "      <td>FDN15</td>\n",
       "      <td>17.50</td>\n",
       "      <td>low fat</td>\n",
       "      <td>0.016760</td>\n",
       "      <td>Meat</td>\n",
       "      <td>141.6180</td>\n",
       "      <td>OUT049</td>\n",
       "      <td>1999</td>\n",
       "      <td>Medium</td>\n",
       "      <td>Tier 1</td>\n",
       "      <td>Supermarket Type1</td>\n",
       "      <td>2097.2700</td>\n",
       "      <td>14.809346</td>\n",
       "    </tr>\n",
       "    <tr>\n",
       "      <th>3</th>\n",
       "      <td>6</td>\n",
       "      <td>FDO10</td>\n",
       "      <td>13.65</td>\n",
       "      <td>regular</td>\n",
       "      <td>0.012741</td>\n",
       "      <td>Snack Foods</td>\n",
       "      <td>57.6588</td>\n",
       "      <td>OUT013</td>\n",
       "      <td>1987</td>\n",
       "      <td>High</td>\n",
       "      <td>Tier 3</td>\n",
       "      <td>Supermarket Type1</td>\n",
       "      <td>343.5528</td>\n",
       "      <td>5.958376</td>\n",
       "    </tr>\n",
       "    <tr>\n",
       "      <th>4</th>\n",
       "      <td>7</td>\n",
       "      <td>FDP10</td>\n",
       "      <td>19.00</td>\n",
       "      <td>low fat</td>\n",
       "      <td>0.127470</td>\n",
       "      <td>Snack Foods</td>\n",
       "      <td>107.7622</td>\n",
       "      <td>OUT027</td>\n",
       "      <td>1985</td>\n",
       "      <td>Medium</td>\n",
       "      <td>Tier 3</td>\n",
       "      <td>Supermarket Type3</td>\n",
       "      <td>4022.7636</td>\n",
       "      <td>37.330006</td>\n",
       "    </tr>\n",
       "  </tbody>\n",
       "</table>\n",
       "</div>"
      ],
      "text/plain": [
       "   Unnamed: 0 Item_Identifier  Item_Weight Item_Fat_Content  Item_Visibility  \\\n",
       "0           0           FDA15         9.30          low fat         0.016047   \n",
       "1           1           DRC01         5.92          regular         0.019278   \n",
       "2           2           FDN15        17.50          low fat         0.016760   \n",
       "3           6           FDO10        13.65          regular         0.012741   \n",
       "4           7           FDP10        19.00          low fat         0.127470   \n",
       "\n",
       "     Item_Type  Item_MRP Outlet_Identifier  Outlet_Establishment_Year  \\\n",
       "0        Dairy  249.8092            OUT049                       1999   \n",
       "1  Soft Drinks   48.2692            OUT018                       2009   \n",
       "2         Meat  141.6180            OUT049                       1999   \n",
       "3  Snack Foods   57.6588            OUT013                       1987   \n",
       "4  Snack Foods  107.7622            OUT027                       1985   \n",
       "\n",
       "  Outlet_Size Outlet_Location_Type        Outlet_Type  Item_Outlet_Sales  \\\n",
       "0      Medium               Tier 1  Supermarket Type1          3735.1380   \n",
       "1      Medium               Tier 3  Supermarket Type2           443.4228   \n",
       "2      Medium               Tier 1  Supermarket Type1          2097.2700   \n",
       "3        High               Tier 3  Supermarket Type1           343.5528   \n",
       "4      Medium               Tier 3  Supermarket Type3          4022.7636   \n",
       "\n",
       "   item_count  \n",
       "0   14.951963  \n",
       "1    9.186454  \n",
       "2   14.809346  \n",
       "3    5.958376  \n",
       "4   37.330006  "
      ]
     },
     "execution_count": 15,
     "metadata": {},
     "output_type": "execute_result"
    }
   ],
   "source": [
    "sales_data.head()"
   ]
  },
  {
   "cell_type": "markdown",
   "id": "d9da00de",
   "metadata": {},
   "source": [
    "## Data Transformation and Feature Engineering"
   ]
  },
  {
   "cell_type": "code",
   "execution_count": 16,
   "id": "ab02603b",
   "metadata": {},
   "outputs": [],
   "source": [
    "# Encoding Ordinal variables through Label Encoding \n",
    "Item_Fat_Content_encoder = OrdinalEncoder(categories=[['low fat','regular']])\n",
    "Outlet_Size_encoder = OrdinalEncoder(categories=[['Small','Medium','High']])\n",
    "Outlet_Location_Type_encoder = OrdinalEncoder(categories=[['Tier 3','Tier 2','Tier 1']])\n",
    "Outlet_Type_encoder = OrdinalEncoder(categories=[['Grocery Store','Supermarket Type3','Supermarket Type2','Supermarket Type1']])\n",
    "\n",
    "sales_data['Item_Fat_Content_Encoded'] = Item_Fat_Content_encoder.fit_transform(sales_data[['Item_Fat_Content']])\n",
    "sales_data['Outlet_Size_Encoded'] = Outlet_Size_encoder.fit_transform(sales_data[['Outlet_Size']])\n",
    "sales_data['Outlet_Location_Type_Encoded'] = Outlet_Location_Type_encoder.fit_transform(sales_data[['Outlet_Location_Type']])\n",
    "sales_data['Outlet_Type_Encoded'] = Outlet_Type_encoder.fit_transform(sales_data[['Outlet_Type']])\n",
    "\n",
    "# Encoding Nominal variables through One Hot Encoding\n",
    "encoder = OneHotEncoder(sparse_output=False)\n",
    "Item_Type_encoded_array = encoder.fit_transform(sales_data[['Item_Type']])\n",
    "Item_Type_encoded = pd.DataFrame(Item_Type_encoded_array, columns=encoder.get_feature_names_out(['Item_Type']))\n",
    "sales_data_updated = pd.concat([sales_data,Item_Type_encoded],axis=1)\n",
    "\n",
    "# Transforming Outlet Establishment Year to Years since Established\n",
    "sales_data_updated['Year_since_estblished'] = 2013 - sales_data_updated['Outlet_Establishment_Year']"
   ]
  },
  {
   "cell_type": "code",
   "execution_count": 25,
   "id": "35c599da",
   "metadata": {},
   "outputs": [
    {
     "data": {
      "text/plain": [
       "Index(['Unnamed: 0', 'Item_Identifier', 'Item_Weight', 'Item_Fat_Content',\n",
       "       'Item_Visibility', 'Item_Type', 'Item_MRP', 'Outlet_Identifier',\n",
       "       'Outlet_Establishment_Year', 'Outlet_Size', 'Outlet_Location_Type',\n",
       "       'Outlet_Type', 'Item_Outlet_Sales', 'item_count',\n",
       "       'Item_Fat_Content_Encoded', 'Outlet_Size_Encoded',\n",
       "       'Outlet_Location_Type_Encoded', 'Outlet_Type_Encoded',\n",
       "       'Item_Type_Baking Goods', 'Item_Type_Breads', 'Item_Type_Breakfast',\n",
       "       'Item_Type_Canned', 'Item_Type_Dairy', 'Item_Type_Frozen Foods',\n",
       "       'Item_Type_Fruits and Vegetables', 'Item_Type_Hard Drinks',\n",
       "       'Item_Type_Health and Hygiene', 'Item_Type_Household', 'Item_Type_Meat',\n",
       "       'Item_Type_Others', 'Item_Type_Seafood', 'Item_Type_Snack Foods',\n",
       "       'Item_Type_Soft Drinks', 'Item_Type_Starchy Foods',\n",
       "       'Year_since_estblished'],\n",
       "      dtype='object')"
      ]
     },
     "execution_count": 25,
     "metadata": {},
     "output_type": "execute_result"
    }
   ],
   "source": [
    "sales_data_updated.columns"
   ]
  },
  {
   "cell_type": "markdown",
   "id": "abd00b56",
   "metadata": {},
   "source": [
    "## Preparing Data for Model Fitting"
   ]
  },
  {
   "cell_type": "code",
   "execution_count": 441,
   "id": "07de188c",
   "metadata": {},
   "outputs": [],
   "source": [
    "final_columns = ['Item_Weight','Item_Fat_Content_Encoded',\n",
    "       'Item_Visibility', 'Item_MRP',\n",
    "       'Item_Type_Baking Goods', 'Item_Type_Breads', 'Item_Type_Breakfast',\n",
    "       'Item_Type_Canned', 'Item_Type_Dairy', 'Item_Type_Frozen Foods',\n",
    "       'Item_Type_Fruits and Vegetables', 'Item_Type_Hard Drinks',\n",
    "       'Item_Type_Health and Hygiene', 'Item_Type_Household', 'Item_Type_Meat', 'Item_Type_Seafood', 'Item_Type_Snack Foods',\n",
    "       'Item_Type_Soft Drinks', 'Item_Type_Starchy Foods', 'Outlet_Size_Encoded',\n",
    "       'Outlet_Location_Type_Encoded', 'Outlet_Type_Encoded','Year_since_estblished','Item_Outlet_Sales']\n",
    "\n",
    "final_features=final_columns[:-1]\n",
    "final_data = sales_data_updated[final_columns]\n",
    "\n",
    "## Keeping 5% of the data for Out of Sample Testing \n",
    "oos_data = final_data.sample(frac=0.05, random_state=42)\n",
    "model_building_data = final_data[~final_data.index.isin(oos_data.index)]\n",
    "\n",
    "target_var = 'Item_Outlet_Sales'\n",
    "X = model_building_data[final_features]\n",
    "y = model_building_data[target_var]\n",
    "oos_X = oos_data[final_features]\n",
    "oos_y = oos_data[target_var]\n",
    "\n",
    "## Splitting Test and Train Data\n",
    "X_train, X_test, y_train, y_test = train_test_split(X, y, test_size=0.2, random_state=42)"
   ]
  },
  {
   "cell_type": "markdown",
   "id": "ba468163",
   "metadata": {},
   "source": [
    "## Decision Tree Regressor"
   ]
  },
  {
   "cell_type": "code",
   "execution_count": 443,
   "id": "b8884924",
   "metadata": {},
   "outputs": [
    {
     "name": "stdout",
     "output_type": "stream",
     "text": [
      "RMSE: 1111.9542122238922  R-Squared value: 0.5730266007878043\n"
     ]
    }
   ],
   "source": [
    "dt_regressor = DecisionTreeRegressor(max_depth=5, random_state=42)\n",
    "dt_regressor.fit(X_train, y_train)\n",
    "\n",
    "#Predicting for validation set and calculating rmse and Rsqured values\n",
    "y_pred = dt_regressor.predict(X_test)\n",
    "mae = mean_absolute_error(y_test, y_pred)\n",
    "mse = mean_squared_error(y_test, y_pred)\n",
    "rmse = np.sqrt(mse)\n",
    "r2 = r2_score(y_test, y_pred)\n",
    "print(\"RMSE:\",rmse,\" R-Squared value:\", r2)"
   ]
  },
  {
   "cell_type": "code",
   "execution_count": 444,
   "id": "8b275e7d",
   "metadata": {},
   "outputs": [
    {
     "name": "stdout",
     "output_type": "stream",
     "text": [
      "Fitting 5 folds for each of 108 candidates, totalling 540 fits\n",
      "Best Parameters: {'criterion': 'squared_error', 'max_depth': 5, 'min_samples_leaf': 4, 'min_samples_split': 10}\n",
      "Validation Set -  RMSE: 1111.9102075902517  R-Squared value: 0.5730603943307839\n",
      "Test Set - RMSE: 1077.9679316021918  R-Squared value: 0.6252271246504879\n"
     ]
    }
   ],
   "source": [
    "#Fitting Grid Search for finding best parameters\n",
    "\n",
    "param_grid = {\n",
    "    'max_depth': [3, 5, 10, None],  \n",
    "    'min_samples_split': [2, 5, 10],  \n",
    "    'min_samples_leaf': [1, 2, 4], \n",
    "    'criterion': ['squared_error', 'friedman_mse', 'absolute_error'] \n",
    "}\n",
    "grid_search = GridSearchCV(\n",
    "    estimator=dt_regressor, \n",
    "    param_grid=param_grid, \n",
    "    cv=5,  \n",
    "    scoring='neg_mean_squared_error',  \n",
    "    n_jobs=-1,  \n",
    "    verbose=1 \n",
    ")\n",
    "\n",
    "grid_search.fit(X_train, y_train)\n",
    "\n",
    "# Best parameters from Grid Search\n",
    "print(\"Best Parameters:\", grid_search.best_params_)\n",
    "\n",
    "\n",
    "# Retraining Model based on best parameters from Grid Search\n",
    "dt_regressor = DecisionTreeRegressor(max_depth=grid_search.best_params_['max_depth'],min_samples_leaf=grid_search.best_params_['min_samples_leaf'],min_samples_split=grid_search.best_params_['min_samples_split'],criterion=grid_search.best_params_['criterion'], random_state=42)\n",
    "dt_regressor.fit(X_train, y_train)\n",
    "\n",
    "#Predicting for validation set and calculating rmse and Rsqured values\n",
    "y_pred = dt_regressor.predict(X_test)\n",
    "mae = mean_absolute_error(y_test, y_pred)\n",
    "mse = mean_squared_error(y_test, y_pred)\n",
    "rmse = np.sqrt(mse)\n",
    "r2 = r2_score(y_test, y_pred)\n",
    "print(\"Validation Set - \",\"RMSE:\",rmse,\" R-Squared value:\", r2)\n",
    "\n",
    "#Predicting for OOS set and calculating rmse and Rsqured values\n",
    "y_pred = dt_regressor.predict(oos_X)\n",
    "mae = mean_absolute_error(oos_y, y_pred)\n",
    "mse = mean_squared_error(oos_y, y_pred)\n",
    "rmse = np.sqrt(mse)\n",
    "r2 = r2_score(oos_y, y_pred)\n",
    "print(\"Test Set - \"\"RMSE:\",rmse,\" R-Squared value:\", r2)"
   ]
  },
  {
   "cell_type": "markdown",
   "id": "8384b699",
   "metadata": {},
   "source": [
    "## Random Forest Regressor"
   ]
  },
  {
   "cell_type": "code",
   "execution_count": 445,
   "id": "0f7d1c31",
   "metadata": {},
   "outputs": [
    {
     "name": "stdout",
     "output_type": "stream",
     "text": [
      "RMSE: 1184.7174420433162  R-Squared value: 0.5153183528633039\n"
     ]
    }
   ],
   "source": [
    "rf_regressor = RandomForestRegressor(n_estimators=100, random_state=42)\n",
    "rf_regressor.fit(X_train, y_train)\n",
    "\n",
    "#Predicting for validation set and calculating rmse and Rsqured values\n",
    "y_pred = rf_regressor.predict(X_test)\n",
    "mae = mean_absolute_error(y_test, y_pred)\n",
    "mse = mean_squared_error(y_test, y_pred)\n",
    "rmse = np.sqrt(mse)\n",
    "r2 = r2_score(y_test, y_pred)\n",
    "print(\"RMSE:\",rmse,\" R-Squared value:\", r2)"
   ]
  },
  {
   "cell_type": "code",
   "execution_count": 446,
   "id": "a55ba8f9",
   "metadata": {},
   "outputs": [
    {
     "name": "stdout",
     "output_type": "stream",
     "text": [
      "Best Parameters: {'max_depth': 5, 'min_samples_split': 10, 'n_estimators': 200}\n",
      "Validation Set -  RMSE: 1107.2569901299844  R-Squared value: 0.5766263043785003\n",
      "Test Set - RMSE: 1081.270497678254  R-Squared value: 0.6229272266016286\n"
     ]
    }
   ],
   "source": [
    "#Fitting Grid Search for finding best parameters\n",
    "param_grid = {\n",
    "    'n_estimators': [50, 100, 200],\n",
    "    'max_depth': [5, 10, 20],\n",
    "    'min_samples_split': [2, 5, 10]\n",
    "}\n",
    "\n",
    "grid_search = GridSearchCV(estimator=rf_regressor, param_grid=param_grid, cv=5)\n",
    "grid_search.fit(X_train, y_train)\n",
    "\n",
    "# Best parameters\n",
    "print(f\"Best Parameters: {grid_search.best_params_}\")\n",
    "\n",
    "# Retraining Model based on best parameters from Grid Search\n",
    "rf_regressor = RandomForestRegressor(n_estimators=grid_search.best_params_['n_estimators'],max_depth= grid_search.best_params_['max_depth'],min_samples_split=grid_search.best_params_['min_samples_split'], random_state=42)\n",
    "rf_regressor.fit(X_train, y_train)\n",
    "\n",
    "#Predicting for validation set and calculating rmse and Rsqured values\n",
    "y_pred = rf_regressor.predict(X_test)\n",
    "mae = mean_absolute_error(y_test, y_pred)\n",
    "mse = mean_squared_error(y_test, y_pred)\n",
    "rmse = np.sqrt(mse)\n",
    "r2 = r2_score(y_test, y_pred)\n",
    "print(\"Validation Set - \",\"RMSE:\",rmse,\" R-Squared value:\", r2)\n",
    "\n",
    "#Predicting for OOS set and calculating rmse and Rsqured values\n",
    "y_pred = rf_regressor.predict(oos_X)\n",
    "mae = mean_absolute_error(oos_y, y_pred)\n",
    "mse = mean_squared_error(oos_y, y_pred)\n",
    "rmse = np.sqrt(mse)\n",
    "r2 = r2_score(oos_y, y_pred)\n",
    "print(\"Test Set - \"\"RMSE:\",rmse,\" R-Squared value:\", r2)"
   ]
  },
  {
   "cell_type": "markdown",
   "id": "1167a7ce",
   "metadata": {},
   "source": [
    "## XG Boost Regressor"
   ]
  },
  {
   "cell_type": "code",
   "execution_count": 447,
   "id": "689cb6b3",
   "metadata": {},
   "outputs": [
    {
     "name": "stdout",
     "output_type": "stream",
     "text": [
      "Best Parameters: {'learning_rate': 0.1, 'max_depth': 3, 'n_estimators': 100}\n",
      "Validation Set -  RMSE: 1104.142984911793  R-Squared value: 0.5790043142144865\n",
      "Test Set - RMSE: 1076.924090089692  R-Squared value: 0.6259525897858098\n"
     ]
    }
   ],
   "source": [
    "xgb_regressor = XGBRegressor(n_estimators=100, random_state=42)\n",
    "xgb_regressor.fit(X_train, y_train)\n",
    "\n",
    "#Predicting for validation set and calculating rmse and Rsqured values\n",
    "y_pred = xgb_regressor.predict(X_test)\n",
    "mae = mean_absolute_error(y_test, y_pred)\n",
    "mse = mean_squared_error(y_test, y_pred)\n",
    "rmse = np.sqrt(mse)\n",
    "r2 = r2_score(y_test, y_pred)\n",
    "rmse, r2\n",
    "\n",
    "param_grid = {\n",
    "    'n_estimators': [100, 200],\n",
    "    'max_depth': [3, 5, 7],\n",
    "    'learning_rate': [0.01, 0.1, 0.2]\n",
    "}\n",
    "\n",
    "# Perform grid search\n",
    "grid_search = GridSearchCV(estimator=XGBRegressor(), param_grid=param_grid, cv=5)\n",
    "grid_search.fit(X_train, y_train)\n",
    "\n",
    "# Best parameters\n",
    "print(f\"Best Parameters: {grid_search.best_params_}\")\n",
    "\n",
    "# Retraining Model based on best parameters from Grid Search\n",
    "xgb_regressor = XGBRegressor(n_estimators=grid_search.best_params_['n_estimators'],max_depth= grid_search.best_params_['max_depth'],learning_rate= grid_search.best_params_['learning_rate'], random_state=42)\n",
    "xgb_regressor.fit(X_train, y_train)\n",
    "\n",
    "#Predicting for validation set and calculating rmse and Rsqured values\n",
    "y_pred = xgb_regressor.predict(X_test)\n",
    "xgb_regressor.fit(X_train, y_train)\n",
    "y_pred = xgb_regressor.predict(X_test)\n",
    "mae = mean_absolute_error(y_test, y_pred)\n",
    "mse = mean_squared_error(y_test, y_pred)\n",
    "rmse = np.sqrt(mse)\n",
    "r2 = r2_score(y_test, y_pred)\n",
    "print(\"Validation Set - \",\"RMSE:\",rmse,\" R-Squared value:\", r2)\n",
    "\n",
    "#Predicting for OOS set and calculating rmse and Rsqured values\n",
    "y_pred = xgb_regressor.predict(oos_X)\n",
    "mae = mean_absolute_error(oos_y, y_pred)\n",
    "mse = mean_squared_error(oos_y, y_pred)\n",
    "rmse = np.sqrt(mse)\n",
    "r2 = r2_score(oos_y, y_pred)\n",
    "print(\"Test Set - \"\"RMSE:\",rmse,\" R-Squared value:\", r2)"
   ]
  },
  {
   "cell_type": "code",
   "execution_count": 235,
   "id": "1dc54088",
   "metadata": {},
   "outputs": [
    {
     "data": {
      "image/png": "[encoded data removed]",
      "text/plain": [
       "<Figure size 640x480 with 1 Axes>"
      ]
     },
     "metadata": {},
     "output_type": "display_data"
    }
   ],
   "source": [
    "xgb.plot_importance(xgb_regressor, importance_type='weight', max_num_features=20,height=5)\n",
    "plt.title('Feature Importance in XGBoost Model')\n",
    "plt.show()"
   ]
  },
  {
   "cell_type": "markdown",
   "id": "bbe65c09",
   "metadata": {},
   "source": [
    "## Generating Submission Data for hackathon"
   ]
  },
  {
   "cell_type": "code",
   "execution_count": 451,
   "id": "1b9eab10",
   "metadata": {},
   "outputs": [],
   "source": [
    "#importing Test Data\n",
    "sales_df = pd.read_csv('test_AbJTz2l.csv')"
   ]
  },
  {
   "cell_type": "code",
   "execution_count": 456,
   "id": "ca3b2307",
   "metadata": {},
   "outputs": [
    {
     "name": "stdout",
     "output_type": "stream",
     "text": [
      "0\n"
     ]
    }
   ],
   "source": [
    "#Standardising values for Fat Content\n",
    "sales_df.loc[sales_df.Item_Fat_Content == 'LF', 'Item_Fat_Content'] = 'Low Fat'\n",
    "sales_df.loc[sales_df.Item_Fat_Content == 'reg', 'Item_Fat_Content'] = 'Regular'\n",
    "sales_df['Item_Fat_Content'] =sales_df['Item_Fat_Content'].str.lower()\n",
    "\n",
    "#Missing Value treatment for Item Weight\n",
    "mis_weight = sales_df[sales_df.Item_Weight.isnull()]['Item_Identifier'].unique()\n",
    "mis_weight2= sales_df.loc[sales_df.Item_Identifier.isin(mis_weight),['Item_Identifier','Item_Weight']].groupby('Item_Identifier')['Item_Weight'].agg(['min','max']).reset_index()\n",
    "mis_weight2.columns= ['Item_Identifier','minval','maxval']\n",
    "mis_weight2.set_index('Item_Identifier', inplace=True)\n",
    "mis_weight_type1= mis_weight2[~mis_weight2.minval.isnull()]\n",
    "mis_weight_type1\n",
    "mis_weight_type1_map = mis_weight_type1.loc[:,'minval'].T.to_dict()\n",
    "\n",
    "#The missing values for item weight in particular records cn be replaced by the min/max values for the corresponding item id in the entire dataset  \n",
    "sales_df.loc[sales_df.Item_Weight.isnull(),'Item_Weight'] = sales_df.loc[sales_df.Item_Weight.isnull(),'Item_Identifier'].map(mis_weight_type1_map)\n",
    "\n",
    "#Remaining missing values can be imputed from the mapping created from training data \n",
    "weight_map = sales_data.loc[:,['Item_Identifier','Item_Weight']].drop_duplicates().set_index('Item_Identifier').loc[:,'Item_Weight'].T.to_dict()\n",
    "sales_df.loc[sales_df.Item_Weight.isnull(),'Item_Weight'] = sales_df.loc[sales_df.Item_Weight.isnull(),'Item_Identifier'].map(weight_map)\n",
    "\n",
    "#Ensuring no missing values in item weight\n",
    "print(sales_df[sales_df.Item_Weight.isnull()].Item_Weight.count())\n",
    "\n",
    "#Missing values for Outlet Identifier can be imputed from the mapping created from training data \n",
    "osize_map = sales_data.loc[:,['Outlet_Identifier','Outlet_Size']].drop_duplicates().set_index('Outlet_Identifier').loc[:,'Outlet_Size'].T.to_dict()\n",
    "sales_df.loc[sales_df.Outlet_Size.isnull(),'Outlet_Size'] = sales_df.loc[sales_df.Outlet_Size.isnull(),'Outlet_Identifier'].map(osize_map)\n",
    "\n",
    "# Encoding ordinal variables through Label Encoding\n",
    "sales_df['Item_Fat_Content_Encoded'] = Item_Fat_Content_encoder.fit_transform(sales_df[['Item_Fat_Content']])\n",
    "sales_df['Outlet_Size_Encoded'] = Outlet_Size_encoder.fit_transform(sales_df[['Outlet_Size']])\n",
    "sales_df['Outlet_Location_Type_Encoded'] = Outlet_Location_Type_encoder.fit_transform(sales_df[['Outlet_Location_Type']])\n",
    "sales_df['Outlet_Type_Encoded'] = Outlet_Type_encoder.fit_transform(sales_df[['Outlet_Type']])\n",
    "\n",
    "# Encoding nominal variables through One Hot Encoding\n",
    "encoder = OneHotEncoder(sparse_output=False)\n",
    "Item_Type_encoded_array = encoder.fit_transform(sales_df[['Item_Type']])\n",
    "Item_Type_encoded = pd.DataFrame(Item_Type_encoded_array, columns=encoder.get_feature_names_out(['Item_Type']))\n",
    "test_updated = pd.concat([sales_df,Item_Type_encoded],axis=1)\n",
    "\n",
    "# Transforming Outlet Establishment Year to Years since Established\n",
    "test_updated['Year_since_estblished'] = 2013 - test_updated['Outlet_Establishment_Year']\n",
    "\n",
    "# Predicting outlet sales for test data\n",
    "X_t = test_updated[final_features]\n",
    "y_t = xgb_regressor.predict(X_t)\n",
    "y_t[y_t<0]=0 #Replacing -ve sales value by 0\n",
    "test_updated['Item_Outlet_Sales']=y_t\n",
    "\n",
    "#Creating submission csv\n",
    "test_updated[['Item_Identifier','Outlet_Identifier','Item_Outlet_Sales']].to_csv('FinalSubmission_Hackathon.csv',index=False)"
   ]
  },
  {
   "cell_type": "code",
   "execution_count": 260,
   "id": "17acc350",
   "metadata": {},
   "outputs": [],
   "source": []
  }
 ],
 "metadata": {
  "kernelspec": {
   "display_name": "Python 3 (ipykernel)",
   "language": "python",
   "name": "python3"
  },
  "language_info": {
   "codemirror_mode": {
    "name": "ipython",
    "version": 3
   },
   "file_extension": ".py",
   "mimetype": "text/x-python",
   "name": "python",
   "nbconvert_exporter": "python",
   "pygments_lexer": "ipython3",
   "version": "3.10.9"
  }
 },
 "nbformat": 4,
 "nbformat_minor": 5
}
