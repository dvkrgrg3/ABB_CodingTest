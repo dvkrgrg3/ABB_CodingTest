{
 "cells": [
  {
   "cell_type": "code",
   "execution_count": 172,
   "id": "df771eb9",
   "metadata": {},
   "outputs": [],
   "source": [
    "import numpy as np\n",
    "import pandas as pd\n",
    "import matplotlib.pyplot as plt"
   ]
  },
  {
   "cell_type": "code",
   "execution_count": 173,
   "id": "4d771071",
   "metadata": {},
   "outputs": [],
   "source": [
    "sales_data  = pd.read_csv('train_v9rqX0R.csv')"
   ]
  },
  {
   "cell_type": "code",
   "execution_count": 174,
   "id": "882e5413",
   "metadata": {},
   "outputs": [
    {
     "data": {
      "text/html": [
       "<div>\n",
       "<style scoped>\n",
       "    .dataframe tbody tr th:only-of-type {\n",
       "        vertical-align: middle;\n",
       "    }\n",
       "\n",
       "    .dataframe tbody tr th {\n",
       "        vertical-align: top;\n",
       "    }\n",
       "\n",
       "    .dataframe thead th {\n",
       "        text-align: right;\n",
       "    }\n",
       "</style>\n",
       "<table border=\"1\" class=\"dataframe\">\n",
       "  <thead>\n",
       "    <tr style=\"text-align: right;\">\n",
       "      <th></th>\n",
       "      <th>Item_Identifier</th>\n",
       "      <th>Item_Weight</th>\n",
       "      <th>Item_Fat_Content</th>\n",
       "      <th>Item_Visibility</th>\n",
       "      <th>Item_Type</th>\n",
       "      <th>Item_MRP</th>\n",
       "      <th>Outlet_Identifier</th>\n",
       "      <th>Outlet_Establishment_Year</th>\n",
       "      <th>Outlet_Size</th>\n",
       "      <th>Outlet_Location_Type</th>\n",
       "      <th>Outlet_Type</th>\n",
       "      <th>Item_Outlet_Sales</th>\n",
       "    </tr>\n",
       "  </thead>\n",
       "  <tbody>\n",
       "    <tr>\n",
       "      <th>0</th>\n",
       "      <td>FDA15</td>\n",
       "      <td>9.30</td>\n",
       "      <td>Low Fat</td>\n",
       "      <td>0.016047</td>\n",
       "      <td>Dairy</td>\n",
       "      <td>249.8092</td>\n",
       "      <td>OUT049</td>\n",
       "      <td>1999</td>\n",
       "      <td>Medium</td>\n",
       "      <td>Tier 1</td>\n",
       "      <td>Supermarket Type1</td>\n",
       "      <td>3735.1380</td>\n",
       "    </tr>\n",
       "    <tr>\n",
       "      <th>1</th>\n",
       "      <td>DRC01</td>\n",
       "      <td>5.92</td>\n",
       "      <td>Regular</td>\n",
       "      <td>0.019278</td>\n",
       "      <td>Soft Drinks</td>\n",
       "      <td>48.2692</td>\n",
       "      <td>OUT018</td>\n",
       "      <td>2009</td>\n",
       "      <td>Medium</td>\n",
       "      <td>Tier 3</td>\n",
       "      <td>Supermarket Type2</td>\n",
       "      <td>443.4228</td>\n",
       "    </tr>\n",
       "    <tr>\n",
       "      <th>2</th>\n",
       "      <td>FDN15</td>\n",
       "      <td>17.50</td>\n",
       "      <td>Low Fat</td>\n",
       "      <td>0.016760</td>\n",
       "      <td>Meat</td>\n",
       "      <td>141.6180</td>\n",
       "      <td>OUT049</td>\n",
       "      <td>1999</td>\n",
       "      <td>Medium</td>\n",
       "      <td>Tier 1</td>\n",
       "      <td>Supermarket Type1</td>\n",
       "      <td>2097.2700</td>\n",
       "    </tr>\n",
       "    <tr>\n",
       "      <th>3</th>\n",
       "      <td>FDX07</td>\n",
       "      <td>19.20</td>\n",
       "      <td>Regular</td>\n",
       "      <td>0.000000</td>\n",
       "      <td>Fruits and Vegetables</td>\n",
       "      <td>182.0950</td>\n",
       "      <td>OUT010</td>\n",
       "      <td>1998</td>\n",
       "      <td>NaN</td>\n",
       "      <td>Tier 3</td>\n",
       "      <td>Grocery Store</td>\n",
       "      <td>732.3800</td>\n",
       "    </tr>\n",
       "    <tr>\n",
       "      <th>4</th>\n",
       "      <td>NCD19</td>\n",
       "      <td>8.93</td>\n",
       "      <td>Low Fat</td>\n",
       "      <td>0.000000</td>\n",
       "      <td>Household</td>\n",
       "      <td>53.8614</td>\n",
       "      <td>OUT013</td>\n",
       "      <td>1987</td>\n",
       "      <td>High</td>\n",
       "      <td>Tier 3</td>\n",
       "      <td>Supermarket Type1</td>\n",
       "      <td>994.7052</td>\n",
       "    </tr>\n",
       "  </tbody>\n",
       "</table>\n",
       "</div>"
      ],
      "text/plain": [
       "  Item_Identifier  Item_Weight Item_Fat_Content  Item_Visibility  \\\n",
       "0           FDA15         9.30          Low Fat         0.016047   \n",
       "1           DRC01         5.92          Regular         0.019278   \n",
       "2           FDN15        17.50          Low Fat         0.016760   \n",
       "3           FDX07        19.20          Regular         0.000000   \n",
       "4           NCD19         8.93          Low Fat         0.000000   \n",
       "\n",
       "               Item_Type  Item_MRP Outlet_Identifier  \\\n",
       "0                  Dairy  249.8092            OUT049   \n",
       "1            Soft Drinks   48.2692            OUT018   \n",
       "2                   Meat  141.6180            OUT049   \n",
       "3  Fruits and Vegetables  182.0950            OUT010   \n",
       "4              Household   53.8614            OUT013   \n",
       "\n",
       "   Outlet_Establishment_Year Outlet_Size Outlet_Location_Type  \\\n",
       "0                       1999      Medium               Tier 1   \n",
       "1                       2009      Medium               Tier 3   \n",
       "2                       1999      Medium               Tier 1   \n",
       "3                       1998         NaN               Tier 3   \n",
       "4                       1987        High               Tier 3   \n",
       "\n",
       "         Outlet_Type  Item_Outlet_Sales  \n",
       "0  Supermarket Type1          3735.1380  \n",
       "1  Supermarket Type2           443.4228  \n",
       "2  Supermarket Type1          2097.2700  \n",
       "3      Grocery Store           732.3800  \n",
       "4  Supermarket Type1           994.7052  "
      ]
     },
     "execution_count": 174,
     "metadata": {},
     "output_type": "execute_result"
    }
   ],
   "source": [
    "sales_data.head()"
   ]
  },
  {
   "cell_type": "code",
   "execution_count": 175,
   "id": "88998a12",
   "metadata": {},
   "outputs": [
    {
     "data": {
      "text/plain": [
       "16"
      ]
     },
     "execution_count": 175,
     "metadata": {},
     "output_type": "execute_result"
    }
   ],
   "source": [
    "#Checking number of distinct items\n",
    "sales_data.Item_Identifier.unique()\n",
    "sales_data.Item_Identifier.nunique()\n",
    "# total 1559 items\n",
    "\n",
    "#Checking number of distinct outlets\n",
    "sales_data.Outlet_Identifier.unique()\n",
    "sales_data.Outlet_Identifier.nunique()\n",
    "#10 unique outlets\n",
    "\n",
    "#Checking number of distinct outlet sizes\n",
    "sales_data.Outlet_Size.unique()\n",
    "#a.Outlet_Size.nunique()\n",
    "# 3 type of oulet sizes- Small, Medium, High\n",
    "\n",
    "#Checking number of distinct outlet location types\n",
    "sales_data.Outlet_Location_Type.unique()\n",
    "sales_data.Outlet_Location_Type.nunique()\n",
    "# 3 type of oulet location types- Tier1, Tier2, Tier3\n",
    "\n",
    "#Checking number of distinct outlet location types\n",
    "sales_data.Outlet_Location_Type.unique()\n",
    "sales_data.Outlet_Location_Type.nunique()\n",
    "# 3 type of oulet location types- Tier1, Tier2, Tier3\n",
    "\n",
    "#Checking number of distinct outlet types\n",
    "sales_data.Outlet_Type.unique()\n",
    "sales_data.Outlet_Type.nunique()\n",
    "# 4 type of oulet types- Supermarket Type1, Supermarket Type2, Supermarket Type3, Grocery Store\n",
    "\n",
    "#Checking distinct values for Item_Fat_Content\n",
    "sales_data.Item_Fat_Content.unique()\n",
    "#a.Item_Fat_Content.nunique()\n",
    "# Five types of distinct values observed- 'Low Fat', 'Regular', 'low fat', 'LF', 'reg'\n",
    "# Asumig 'Low Fat' ,'low fat' and 'LF' are the same . Also 'Regular' and 'reg' are the same.\n",
    "# Need to standardise these values (1)\n",
    "\n",
    "#Checking distinct values for Item_Type\n",
    "sales_data.Item_Type.unique()\n",
    "sales_data.Item_Type.nunique()\n",
    "# Sixteen types of distinct values observed- 'Dairy', 'Soft Drinks', 'Meat', 'Fruits and Vegetables',\n",
    "# 'Household', 'Baking Goods', 'Snack Foods', 'Frozen Foods',\n",
    "#'Breakfast', 'Health and Hygiene', 'Hard Drinks', 'Canned',\n",
    "#'Breads', 'Starchy Foods', 'Others', 'Seafood'\n"
   ]
  },
  {
   "cell_type": "markdown",
   "id": "214711bb",
   "metadata": {},
   "source": [
    " Need to standardise values in Item_Fat_Content ------------- (1)"
   ]
  },
  {
   "cell_type": "markdown",
   "id": "97e73a76",
   "metadata": {},
   "source": [
    "### Examining Numeric values"
   ]
  },
  {
   "cell_type": "code",
   "execution_count": 176,
   "id": "58c50216",
   "metadata": {},
   "outputs": [
    {
     "data": {
      "text/html": [
       "<div>\n",
       "<style scoped>\n",
       "    .dataframe tbody tr th:only-of-type {\n",
       "        vertical-align: middle;\n",
       "    }\n",
       "\n",
       "    .dataframe tbody tr th {\n",
       "        vertical-align: top;\n",
       "    }\n",
       "\n",
       "    .dataframe thead th {\n",
       "        text-align: right;\n",
       "    }\n",
       "</style>\n",
       "<table border=\"1\" class=\"dataframe\">\n",
       "  <thead>\n",
       "    <tr style=\"text-align: right;\">\n",
       "      <th></th>\n",
       "      <th>Item_Weight</th>\n",
       "      <th>Item_Visibility</th>\n",
       "      <th>Item_MRP</th>\n",
       "      <th>Outlet_Establishment_Year</th>\n",
       "      <th>Item_Outlet_Sales</th>\n",
       "    </tr>\n",
       "  </thead>\n",
       "  <tbody>\n",
       "    <tr>\n",
       "      <th>count</th>\n",
       "      <td>7060.000000</td>\n",
       "      <td>8523.000000</td>\n",
       "      <td>8523.000000</td>\n",
       "      <td>8523.000000</td>\n",
       "      <td>8523.000000</td>\n",
       "    </tr>\n",
       "    <tr>\n",
       "      <th>mean</th>\n",
       "      <td>12.857645</td>\n",
       "      <td>0.066132</td>\n",
       "      <td>140.992782</td>\n",
       "      <td>1997.831867</td>\n",
       "      <td>2181.288914</td>\n",
       "    </tr>\n",
       "    <tr>\n",
       "      <th>std</th>\n",
       "      <td>4.643456</td>\n",
       "      <td>0.051598</td>\n",
       "      <td>62.275067</td>\n",
       "      <td>8.371760</td>\n",
       "      <td>1706.499616</td>\n",
       "    </tr>\n",
       "    <tr>\n",
       "      <th>min</th>\n",
       "      <td>4.555000</td>\n",
       "      <td>0.000000</td>\n",
       "      <td>31.290000</td>\n",
       "      <td>1985.000000</td>\n",
       "      <td>33.290000</td>\n",
       "    </tr>\n",
       "    <tr>\n",
       "      <th>25%</th>\n",
       "      <td>8.773750</td>\n",
       "      <td>0.026989</td>\n",
       "      <td>93.826500</td>\n",
       "      <td>1987.000000</td>\n",
       "      <td>834.247400</td>\n",
       "    </tr>\n",
       "    <tr>\n",
       "      <th>50%</th>\n",
       "      <td>12.600000</td>\n",
       "      <td>0.053931</td>\n",
       "      <td>143.012800</td>\n",
       "      <td>1999.000000</td>\n",
       "      <td>1794.331000</td>\n",
       "    </tr>\n",
       "    <tr>\n",
       "      <th>75%</th>\n",
       "      <td>16.850000</td>\n",
       "      <td>0.094585</td>\n",
       "      <td>185.643700</td>\n",
       "      <td>2004.000000</td>\n",
       "      <td>3101.296400</td>\n",
       "    </tr>\n",
       "    <tr>\n",
       "      <th>max</th>\n",
       "      <td>21.350000</td>\n",
       "      <td>0.328391</td>\n",
       "      <td>266.888400</td>\n",
       "      <td>2009.000000</td>\n",
       "      <td>13086.964800</td>\n",
       "    </tr>\n",
       "  </tbody>\n",
       "</table>\n",
       "</div>"
      ],
      "text/plain": [
       "       Item_Weight  Item_Visibility     Item_MRP  Outlet_Establishment_Year  \\\n",
       "count  7060.000000      8523.000000  8523.000000                8523.000000   \n",
       "mean     12.857645         0.066132   140.992782                1997.831867   \n",
       "std       4.643456         0.051598    62.275067                   8.371760   \n",
       "min       4.555000         0.000000    31.290000                1985.000000   \n",
       "25%       8.773750         0.026989    93.826500                1987.000000   \n",
       "50%      12.600000         0.053931   143.012800                1999.000000   \n",
       "75%      16.850000         0.094585   185.643700                2004.000000   \n",
       "max      21.350000         0.328391   266.888400                2009.000000   \n",
       "\n",
       "       Item_Outlet_Sales  \n",
       "count        8523.000000  \n",
       "mean         2181.288914  \n",
       "std          1706.499616  \n",
       "min            33.290000  \n",
       "25%           834.247400  \n",
       "50%          1794.331000  \n",
       "75%          3101.296400  \n",
       "max         13086.964800  "
      ]
     },
     "execution_count": 176,
     "metadata": {},
     "output_type": "execute_result"
    }
   ],
   "source": [
    "sales_data.describe()"
   ]
  },
  {
   "cell_type": "code",
   "execution_count": 177,
   "id": "dbe37123",
   "metadata": {},
   "outputs": [
    {
     "data": {
      "text/plain": [
       "{'whiskers': [<matplotlib.lines.Line2D at 0x20a8deaec80>,\n",
       "  <matplotlib.lines.Line2D at 0x20a8deaef20>],\n",
       " 'caps': [<matplotlib.lines.Line2D at 0x20a8deaf1c0>,\n",
       "  <matplotlib.lines.Line2D at 0x20a8deaf460>],\n",
       " 'boxes': [<matplotlib.lines.Line2D at 0x20a8deae9e0>],\n",
       " 'medians': [<matplotlib.lines.Line2D at 0x20a8deaf700>],\n",
       " 'fliers': [<matplotlib.lines.Line2D at 0x20a8deaf9a0>],\n",
       " 'means': []}"
      ]
     },
     "execution_count": 177,
     "metadata": {},
     "output_type": "execute_result"
    },
    {
     "data": {
      "image/png": "[encoded data removed]",
      "text/plain": [
       "<Figure size 640x480 with 1 Axes>"
      ]
     },
     "metadata": {},
     "output_type": "display_data"
    }
   ],
   "source": [
    "plt.boxplot(sales_data[['Item_MRP']])"
   ]
  },
  {
   "cell_type": "code",
   "execution_count": 178,
   "id": "c436441a",
   "metadata": {},
   "outputs": [
    {
     "data": {
      "text/plain": [
       "{'whiskers': [<matplotlib.lines.Line2D at 0x20a8e45c8b0>,\n",
       "  <matplotlib.lines.Line2D at 0x20a8e45cb50>],\n",
       " 'caps': [<matplotlib.lines.Line2D at 0x20a8e45cdf0>,\n",
       "  <matplotlib.lines.Line2D at 0x20a8e45d090>],\n",
       " 'boxes': [<matplotlib.lines.Line2D at 0x20a8e45c610>],\n",
       " 'medians': [<matplotlib.lines.Line2D at 0x20a8e45d330>],\n",
       " 'fliers': [<matplotlib.lines.Line2D at 0x20a8e45d5d0>],\n",
       " 'means': []}"
      ]
     },
     "execution_count": 178,
     "metadata": {},
     "output_type": "execute_result"
    },
    {
     "data": {
      "image/png": "[encoded data removed]",
      "text/plain": [
       "<Figure size 640x480 with 1 Axes>"
      ]
     },
     "metadata": {},
     "output_type": "display_data"
    }
   ],
   "source": [
    "plt.boxplot(sales_data[['Item_Visibility']])"
   ]
  },
  {
   "cell_type": "code",
   "execution_count": 179,
   "id": "fb81e68f",
   "metadata": {},
   "outputs": [
    {
     "data": {
      "text/plain": [
       "{'whiskers': [<matplotlib.lines.Line2D at 0x20a8e41ffa0>,\n",
       "  <matplotlib.lines.Line2D at 0x20a8e3e0280>],\n",
       " 'caps': [<matplotlib.lines.Line2D at 0x20a8e3e0520>,\n",
       "  <matplotlib.lines.Line2D at 0x20a8e3e07c0>],\n",
       " 'boxes': [<matplotlib.lines.Line2D at 0x20a8e41fd00>],\n",
       " 'medians': [<matplotlib.lines.Line2D at 0x20a8e3e0a60>],\n",
       " 'fliers': [<matplotlib.lines.Line2D at 0x20a8e3e0d00>],\n",
       " 'means': []}"
      ]
     },
     "execution_count": 179,
     "metadata": {},
     "output_type": "execute_result"
    },
    {
     "data": {
      "image/png": "[encoded data removed]",
      "text/plain": [
       "<Figure size 640x480 with 1 Axes>"
      ]
     },
     "metadata": {},
     "output_type": "display_data"
    }
   ],
   "source": [
    "plt.boxplot(sales_data[['Item_MRP']])"
   ]
  },
  {
   "cell_type": "code",
   "execution_count": 180,
   "id": "1d5ca37a",
   "metadata": {},
   "outputs": [
    {
     "data": {
      "text/plain": [
       "{'whiskers': [<matplotlib.lines.Line2D at 0x20a8e495e70>,\n",
       "  <matplotlib.lines.Line2D at 0x20a8e496110>],\n",
       " 'caps': [<matplotlib.lines.Line2D at 0x20a8e4963b0>,\n",
       "  <matplotlib.lines.Line2D at 0x20a8e496650>],\n",
       " 'boxes': [<matplotlib.lines.Line2D at 0x20a8e495bd0>],\n",
       " 'medians': [<matplotlib.lines.Line2D at 0x20a8e4968f0>],\n",
       " 'fliers': [<matplotlib.lines.Line2D at 0x20a8e496b90>],\n",
       " 'means': []}"
      ]
     },
     "execution_count": 180,
     "metadata": {},
     "output_type": "execute_result"
    },
    {
     "data": {
      "image/png": "[encoded data removed]",
      "text/plain": [
       "<Figure size 640x480 with 1 Axes>"
      ]
     },
     "metadata": {},
     "output_type": "display_data"
    }
   ],
   "source": [
    "plt.boxplot(sales_data[['Item_Outlet_Sales']])"
   ]
  },
  {
   "cell_type": "markdown",
   "id": "af2db338",
   "metadata": {},
   "source": [
    " ### No significant outliers are observed in any of the numeric columns"
   ]
  },
  {
   "cell_type": "markdown",
   "id": "c94ae7b8",
   "metadata": {},
   "source": [
    "## Checking for missing values"
   ]
  },
  {
   "cell_type": "code",
   "execution_count": 181,
   "id": "2b3cca78",
   "metadata": {},
   "outputs": [
    {
     "data": {
      "text/plain": [
       "Item_Identifier              False\n",
       "Item_Weight                   True\n",
       "Item_Fat_Content             False\n",
       "Item_Visibility              False\n",
       "Item_Type                    False\n",
       "Item_MRP                     False\n",
       "Outlet_Identifier            False\n",
       "Outlet_Establishment_Year    False\n",
       "Outlet_Size                   True\n",
       "Outlet_Location_Type         False\n",
       "Outlet_Type                  False\n",
       "Item_Outlet_Sales            False\n",
       "dtype: bool"
      ]
     },
     "execution_count": 181,
     "metadata": {},
     "output_type": "execute_result"
    }
   ],
   "source": [
    "sales_data.isnull().sum() >0"
   ]
  },
  {
   "cell_type": "markdown",
   "id": "9f4929fe",
   "metadata": {},
   "source": [
    "Missing values observed in Item Weight and Outlet Sze which need to be treated ------------(2)"
   ]
  },
  {
   "cell_type": "markdown",
   "id": "51a78713",
   "metadata": {},
   "source": [
    "### Standardising values in Item_Fat_Content"
   ]
  },
  {
   "cell_type": "code",
   "execution_count": 182,
   "id": "1257c093",
   "metadata": {},
   "outputs": [
    {
     "data": {
      "text/plain": [
       "array(['low fat', 'regular'], dtype=object)"
      ]
     },
     "execution_count": 182,
     "metadata": {},
     "output_type": "execute_result"
    }
   ],
   "source": [
    "sales_data.loc[sales_data.Item_Fat_Content == 'LF', 'Item_Fat_Content'] = 'Low Fat'\n",
    "sales_data.loc[sales_data.Item_Fat_Content == 'reg', 'Item_Fat_Content'] = 'Regular'\n",
    "sales_data['Item_Fat_Content'] =sales_data['Item_Fat_Content'].str.lower()\n",
    "\n",
    "#Checking for unique values post standardisation\n",
    "sales_data['Item_Fat_Content'].unique()"
   ]
  },
  {
   "cell_type": "markdown",
   "id": "b818bf39",
   "metadata": {},
   "source": [
    "### Treating missing values in Item Weight"
   ]
  },
  {
   "cell_type": "code",
   "execution_count": 183,
   "id": "c0e9c1e1",
   "metadata": {},
   "outputs": [
    {
     "data": {
      "text/plain": [
       "1142"
      ]
     },
     "execution_count": 183,
     "metadata": {},
     "output_type": "execute_result"
    }
   ],
   "source": [
    "#identifying items where weight values are null\n",
    "sales_data[sales_data.Item_Weight.isnull()]['Item_Identifier'].nunique()"
   ]
  },
  {
   "cell_type": "markdown",
   "id": "0b59d95c",
   "metadata": {},
   "source": [
    "Total 1142 item Ids out of 1559 Items ids have some records where item_weight is null."
   ]
  },
  {
   "cell_type": "code",
   "execution_count": 184,
   "id": "0f49b8eb",
   "metadata": {},
   "outputs": [
    {
     "data": {
      "text/html": [
       "<div>\n",
       "<style scoped>\n",
       "    .dataframe tbody tr th:only-of-type {\n",
       "        vertical-align: middle;\n",
       "    }\n",
       "\n",
       "    .dataframe tbody tr th {\n",
       "        vertical-align: top;\n",
       "    }\n",
       "\n",
       "    .dataframe thead th {\n",
       "        text-align: right;\n",
       "    }\n",
       "</style>\n",
       "<table border=\"1\" class=\"dataframe\">\n",
       "  <thead>\n",
       "    <tr style=\"text-align: right;\">\n",
       "      <th></th>\n",
       "      <th>minval</th>\n",
       "      <th>maxval</th>\n",
       "    </tr>\n",
       "    <tr>\n",
       "      <th>Item_Identifier</th>\n",
       "      <th></th>\n",
       "      <th></th>\n",
       "    </tr>\n",
       "  </thead>\n",
       "  <tbody>\n",
       "    <tr>\n",
       "      <th>DRA24</th>\n",
       "      <td>19.350</td>\n",
       "      <td>19.350</td>\n",
       "    </tr>\n",
       "    <tr>\n",
       "      <th>DRA59</th>\n",
       "      <td>8.270</td>\n",
       "      <td>8.270</td>\n",
       "    </tr>\n",
       "    <tr>\n",
       "      <th>DRB01</th>\n",
       "      <td>7.390</td>\n",
       "      <td>7.390</td>\n",
       "    </tr>\n",
       "    <tr>\n",
       "      <th>DRB25</th>\n",
       "      <td>12.300</td>\n",
       "      <td>12.300</td>\n",
       "    </tr>\n",
       "    <tr>\n",
       "      <th>DRB48</th>\n",
       "      <td>16.750</td>\n",
       "      <td>16.750</td>\n",
       "    </tr>\n",
       "    <tr>\n",
       "      <th>...</th>\n",
       "      <td>...</td>\n",
       "      <td>...</td>\n",
       "    </tr>\n",
       "    <tr>\n",
       "      <th>NCZ17</th>\n",
       "      <td>12.150</td>\n",
       "      <td>12.150</td>\n",
       "    </tr>\n",
       "    <tr>\n",
       "      <th>NCZ18</th>\n",
       "      <td>7.825</td>\n",
       "      <td>7.825</td>\n",
       "    </tr>\n",
       "    <tr>\n",
       "      <th>NCZ30</th>\n",
       "      <td>6.590</td>\n",
       "      <td>6.590</td>\n",
       "    </tr>\n",
       "    <tr>\n",
       "      <th>NCZ53</th>\n",
       "      <td>9.600</td>\n",
       "      <td>9.600</td>\n",
       "    </tr>\n",
       "    <tr>\n",
       "      <th>NCZ54</th>\n",
       "      <td>14.650</td>\n",
       "      <td>14.650</td>\n",
       "    </tr>\n",
       "  </tbody>\n",
       "</table>\n",
       "<p>1138 rows × 2 columns</p>\n",
       "</div>"
      ],
      "text/plain": [
       "                 minval  maxval\n",
       "Item_Identifier                \n",
       "DRA24            19.350  19.350\n",
       "DRA59             8.270   8.270\n",
       "DRB01             7.390   7.390\n",
       "DRB25            12.300  12.300\n",
       "DRB48            16.750  16.750\n",
       "...                 ...     ...\n",
       "NCZ17            12.150  12.150\n",
       "NCZ18             7.825   7.825\n",
       "NCZ30             6.590   6.590\n",
       "NCZ53             9.600   9.600\n",
       "NCZ54            14.650  14.650\n",
       "\n",
       "[1138 rows x 2 columns]"
      ]
     },
     "execution_count": 184,
     "metadata": {},
     "output_type": "execute_result"
    }
   ],
   "source": [
    "mis_weight = sales_data[sales_data.Item_Weight.isnull()]['Item_Identifier'].unique()\n",
    "\n",
    "#checking min.max item weight values for an item id (should be the same). Item Ids where nim/max\n",
    "mis_weight2= sales_data.loc[sales_data.Item_Identifier.isin(mis_weight),['Item_Identifier','Item_Weight']].groupby('Item_Identifier')['Item_Weight'].agg(['min','max']).reset_index()\n",
    "mis_weight2.columns= ['Item_Identifier','minval','maxval']\n",
    "mis_weight2.set_index('Item_Identifier', inplace=True)\n",
    "mis_weight_type1= mis_weight2[~mis_weight2.minval.isnull()]\n",
    "mis_weight_type1\n",
    "\n",
    "#The missing values for item weight in particular records cn be replaced by the min/max values for the corresponding item id in the entire dataset  \n"
   ]
  },
  {
   "cell_type": "markdown",
   "id": "41222602",
   "metadata": {},
   "source": [
    "Overall 1138  Item IDs have weight values in other records which can be used to impute values in the remaining records where weight is missing . For these Items, the missing weight walues can be imputed from other records corresponding to the same item"
   ]
  },
  {
   "cell_type": "code",
   "execution_count": 185,
   "id": "6549db4b",
   "metadata": {},
   "outputs": [],
   "source": [
    "#Imputing missing values for type 1 missing weights\n",
    "mis_weight_type1_map = mis_weight_type1.loc[:,'minval'].T.to_dict()\n",
    "sales_data.loc[sales_data.Item_Identifier.isin(mis_weight_type1.index),'Item_Weight'] = sales_data.loc[sales_data.Item_Identifier.isin(mis_weight_type1.index),'Item_Identifier'].map(mis_weight_type1_map)"
   ]
  },
  {
   "cell_type": "code",
   "execution_count": 186,
   "id": "7a0bdb7b",
   "metadata": {},
   "outputs": [
    {
     "data": {
      "text/html": [
       "<div>\n",
       "<style scoped>\n",
       "    .dataframe tbody tr th:only-of-type {\n",
       "        vertical-align: middle;\n",
       "    }\n",
       "\n",
       "    .dataframe tbody tr th {\n",
       "        vertical-align: top;\n",
       "    }\n",
       "\n",
       "    .dataframe thead th {\n",
       "        text-align: right;\n",
       "    }\n",
       "</style>\n",
       "<table border=\"1\" class=\"dataframe\">\n",
       "  <thead>\n",
       "    <tr style=\"text-align: right;\">\n",
       "      <th></th>\n",
       "      <th>minval</th>\n",
       "      <th>maxval</th>\n",
       "    </tr>\n",
       "    <tr>\n",
       "      <th>Item_Identifier</th>\n",
       "      <th></th>\n",
       "      <th></th>\n",
       "    </tr>\n",
       "  </thead>\n",
       "  <tbody>\n",
       "    <tr>\n",
       "      <th>FDE52</th>\n",
       "      <td>NaN</td>\n",
       "      <td>NaN</td>\n",
       "    </tr>\n",
       "    <tr>\n",
       "      <th>FDK57</th>\n",
       "      <td>NaN</td>\n",
       "      <td>NaN</td>\n",
       "    </tr>\n",
       "    <tr>\n",
       "      <th>FDN52</th>\n",
       "      <td>NaN</td>\n",
       "      <td>NaN</td>\n",
       "    </tr>\n",
       "    <tr>\n",
       "      <th>FDQ60</th>\n",
       "      <td>NaN</td>\n",
       "      <td>NaN</td>\n",
       "    </tr>\n",
       "  </tbody>\n",
       "</table>\n",
       "</div>"
      ],
      "text/plain": [
       "                 minval  maxval\n",
       "Item_Identifier                \n",
       "FDE52               NaN     NaN\n",
       "FDK57               NaN     NaN\n",
       "FDN52               NaN     NaN\n",
       "FDQ60               NaN     NaN"
      ]
     },
     "execution_count": 186,
     "metadata": {},
     "output_type": "execute_result"
    }
   ],
   "source": [
    "mis_weight_type2= mis_weight2[mis_weight2.minval.isnull()]\n",
    "mis_weight_type2"
   ]
  },
  {
   "cell_type": "markdown",
   "id": "136c0077",
   "metadata": {},
   "source": [
    "4 Items have missing weight values across all records in the dataset"
   ]
  },
  {
   "cell_type": "code",
   "execution_count": 187,
   "id": "9c765635",
   "metadata": {},
   "outputs": [
    {
     "data": {
      "text/html": [
       "<div>\n",
       "<style scoped>\n",
       "    .dataframe tbody tr th:only-of-type {\n",
       "        vertical-align: middle;\n",
       "    }\n",
       "\n",
       "    .dataframe tbody tr th {\n",
       "        vertical-align: top;\n",
       "    }\n",
       "\n",
       "    .dataframe thead th {\n",
       "        text-align: right;\n",
       "    }\n",
       "</style>\n",
       "<table border=\"1\" class=\"dataframe\">\n",
       "  <thead>\n",
       "    <tr style=\"text-align: right;\">\n",
       "      <th></th>\n",
       "      <th>Item_Identifier</th>\n",
       "      <th>Item_Weight</th>\n",
       "      <th>Item_Fat_Content</th>\n",
       "      <th>Item_Visibility</th>\n",
       "      <th>Item_Type</th>\n",
       "      <th>Item_MRP</th>\n",
       "      <th>Outlet_Identifier</th>\n",
       "      <th>Outlet_Establishment_Year</th>\n",
       "      <th>Outlet_Size</th>\n",
       "      <th>Outlet_Location_Type</th>\n",
       "      <th>Outlet_Type</th>\n",
       "      <th>Item_Outlet_Sales</th>\n",
       "    </tr>\n",
       "  </thead>\n",
       "  <tbody>\n",
       "    <tr>\n",
       "      <th>927</th>\n",
       "      <td>FDN52</td>\n",
       "      <td>NaN</td>\n",
       "      <td>regular</td>\n",
       "      <td>0.130933</td>\n",
       "      <td>Frozen Foods</td>\n",
       "      <td>86.9198</td>\n",
       "      <td>OUT027</td>\n",
       "      <td>1985</td>\n",
       "      <td>Medium</td>\n",
       "      <td>Tier 3</td>\n",
       "      <td>Supermarket Type3</td>\n",
       "      <td>1569.9564</td>\n",
       "    </tr>\n",
       "    <tr>\n",
       "      <th>1922</th>\n",
       "      <td>FDK57</td>\n",
       "      <td>NaN</td>\n",
       "      <td>low fat</td>\n",
       "      <td>0.079904</td>\n",
       "      <td>Snack Foods</td>\n",
       "      <td>120.0440</td>\n",
       "      <td>OUT027</td>\n",
       "      <td>1985</td>\n",
       "      <td>Medium</td>\n",
       "      <td>Tier 3</td>\n",
       "      <td>Supermarket Type3</td>\n",
       "      <td>4434.2280</td>\n",
       "    </tr>\n",
       "    <tr>\n",
       "      <th>4187</th>\n",
       "      <td>FDE52</td>\n",
       "      <td>NaN</td>\n",
       "      <td>regular</td>\n",
       "      <td>0.029742</td>\n",
       "      <td>Dairy</td>\n",
       "      <td>88.9514</td>\n",
       "      <td>OUT027</td>\n",
       "      <td>1985</td>\n",
       "      <td>Medium</td>\n",
       "      <td>Tier 3</td>\n",
       "      <td>Supermarket Type3</td>\n",
       "      <td>3453.5046</td>\n",
       "    </tr>\n",
       "    <tr>\n",
       "      <th>5022</th>\n",
       "      <td>FDQ60</td>\n",
       "      <td>NaN</td>\n",
       "      <td>regular</td>\n",
       "      <td>0.191501</td>\n",
       "      <td>Baking Goods</td>\n",
       "      <td>121.2098</td>\n",
       "      <td>OUT019</td>\n",
       "      <td>1985</td>\n",
       "      <td>Small</td>\n",
       "      <td>Tier 1</td>\n",
       "      <td>Grocery Store</td>\n",
       "      <td>120.5098</td>\n",
       "    </tr>\n",
       "  </tbody>\n",
       "</table>\n",
       "</div>"
      ],
      "text/plain": [
       "     Item_Identifier  Item_Weight Item_Fat_Content  Item_Visibility  \\\n",
       "927            FDN52          NaN          regular         0.130933   \n",
       "1922           FDK57          NaN          low fat         0.079904   \n",
       "4187           FDE52          NaN          regular         0.029742   \n",
       "5022           FDQ60          NaN          regular         0.191501   \n",
       "\n",
       "         Item_Type  Item_MRP Outlet_Identifier  Outlet_Establishment_Year  \\\n",
       "927   Frozen Foods   86.9198            OUT027                       1985   \n",
       "1922   Snack Foods  120.0440            OUT027                       1985   \n",
       "4187         Dairy   88.9514            OUT027                       1985   \n",
       "5022  Baking Goods  121.2098            OUT019                       1985   \n",
       "\n",
       "     Outlet_Size Outlet_Location_Type        Outlet_Type  Item_Outlet_Sales  \n",
       "927       Medium               Tier 3  Supermarket Type3          1569.9564  \n",
       "1922      Medium               Tier 3  Supermarket Type3          4434.2280  \n",
       "4187      Medium               Tier 3  Supermarket Type3          3453.5046  \n",
       "5022       Small               Tier 1      Grocery Store           120.5098  "
      ]
     },
     "execution_count": 187,
     "metadata": {},
     "output_type": "execute_result"
    }
   ],
   "source": [
    "sales_data[sales_data['Item_Identifier'].isin(mis_weight_type2.index)]"
   ]
  },
  {
   "cell_type": "markdown",
   "id": "2cf3b27d",
   "metadata": {},
   "source": [
    "Since there are only 4 records corresponding to missing item weights, we can drop those records"
   ]
  },
  {
   "cell_type": "code",
   "execution_count": 188,
   "id": "191bce38",
   "metadata": {},
   "outputs": [],
   "source": [
    "sales_data = sales_data.drop(sales_data[sales_data['Item_Identifier'].isin(mis_weight_type2.index)].index)"
   ]
  },
  {
   "cell_type": "markdown",
   "id": "2e919a24",
   "metadata": {},
   "source": [
    "### Treating missing values in outlet size"
   ]
  },
  {
   "cell_type": "code",
   "execution_count": 189,
   "id": "195585c8",
   "metadata": {},
   "outputs": [
    {
     "data": {
      "text/html": [
       "<div>\n",
       "<style scoped>\n",
       "    .dataframe tbody tr th:only-of-type {\n",
       "        vertical-align: middle;\n",
       "    }\n",
       "\n",
       "    .dataframe tbody tr th {\n",
       "        vertical-align: top;\n",
       "    }\n",
       "\n",
       "    .dataframe thead th {\n",
       "        text-align: right;\n",
       "    }\n",
       "</style>\n",
       "<table border=\"1\" class=\"dataframe\">\n",
       "  <thead>\n",
       "    <tr style=\"text-align: right;\">\n",
       "      <th></th>\n",
       "      <th>Outlet_Identifier</th>\n",
       "      <th>Outlet_Establishment_Year</th>\n",
       "      <th>Outlet_Size</th>\n",
       "      <th>Outlet_Location_Type</th>\n",
       "      <th>Outlet_Type</th>\n",
       "      <th>Item_Outlet_Sales</th>\n",
       "      <th>Item_Identifier</th>\n",
       "    </tr>\n",
       "  </thead>\n",
       "  <tbody>\n",
       "    <tr>\n",
       "      <th>4</th>\n",
       "      <td>OUT019</td>\n",
       "      <td>1985</td>\n",
       "      <td>Small</td>\n",
       "      <td>Tier 1</td>\n",
       "      <td>Grocery Store</td>\n",
       "      <td>179573</td>\n",
       "      <td>527</td>\n",
       "    </tr>\n",
       "    <tr>\n",
       "      <th>8</th>\n",
       "      <td>OUT046</td>\n",
       "      <td>1997</td>\n",
       "      <td>Small</td>\n",
       "      <td>Tier 1</td>\n",
       "      <td>Supermarket Type1</td>\n",
       "      <td>2118395</td>\n",
       "      <td>930</td>\n",
       "    </tr>\n",
       "    <tr>\n",
       "      <th>9</th>\n",
       "      <td>OUT049</td>\n",
       "      <td>1999</td>\n",
       "      <td>Medium</td>\n",
       "      <td>Tier 1</td>\n",
       "      <td>Supermarket Type1</td>\n",
       "      <td>2183969</td>\n",
       "      <td>930</td>\n",
       "    </tr>\n",
       "    <tr>\n",
       "      <th>2</th>\n",
       "      <td>OUT017</td>\n",
       "      <td>2007</td>\n",
       "      <td>NaN</td>\n",
       "      <td>Tier 2</td>\n",
       "      <td>Supermarket Type1</td>\n",
       "      <td>2167465</td>\n",
       "      <td>926</td>\n",
       "    </tr>\n",
       "    <tr>\n",
       "      <th>6</th>\n",
       "      <td>OUT035</td>\n",
       "      <td>2004</td>\n",
       "      <td>Small</td>\n",
       "      <td>Tier 2</td>\n",
       "      <td>Supermarket Type1</td>\n",
       "      <td>2268122</td>\n",
       "      <td>930</td>\n",
       "    </tr>\n",
       "    <tr>\n",
       "      <th>7</th>\n",
       "      <td>OUT045</td>\n",
       "      <td>2002</td>\n",
       "      <td>NaN</td>\n",
       "      <td>Tier 2</td>\n",
       "      <td>Supermarket Type1</td>\n",
       "      <td>2036725</td>\n",
       "      <td>929</td>\n",
       "    </tr>\n",
       "    <tr>\n",
       "      <th>0</th>\n",
       "      <td>OUT010</td>\n",
       "      <td>1998</td>\n",
       "      <td>NaN</td>\n",
       "      <td>Tier 3</td>\n",
       "      <td>Grocery Store</td>\n",
       "      <td>188340</td>\n",
       "      <td>555</td>\n",
       "    </tr>\n",
       "    <tr>\n",
       "      <th>1</th>\n",
       "      <td>OUT013</td>\n",
       "      <td>1987</td>\n",
       "      <td>High</td>\n",
       "      <td>Tier 3</td>\n",
       "      <td>Supermarket Type1</td>\n",
       "      <td>2142663</td>\n",
       "      <td>932</td>\n",
       "    </tr>\n",
       "    <tr>\n",
       "      <th>3</th>\n",
       "      <td>OUT018</td>\n",
       "      <td>2009</td>\n",
       "      <td>Medium</td>\n",
       "      <td>Tier 3</td>\n",
       "      <td>Supermarket Type2</td>\n",
       "      <td>1851822</td>\n",
       "      <td>928</td>\n",
       "    </tr>\n",
       "    <tr>\n",
       "      <th>5</th>\n",
       "      <td>OUT027</td>\n",
       "      <td>1985</td>\n",
       "      <td>Medium</td>\n",
       "      <td>Tier 3</td>\n",
       "      <td>Supermarket Type3</td>\n",
       "      <td>3444468</td>\n",
       "      <td>932</td>\n",
       "    </tr>\n",
       "  </tbody>\n",
       "</table>\n",
       "</div>"
      ],
      "text/plain": [
       "  Outlet_Identifier  Outlet_Establishment_Year Outlet_Size  \\\n",
       "4            OUT019                       1985       Small   \n",
       "8            OUT046                       1997       Small   \n",
       "9            OUT049                       1999      Medium   \n",
       "2            OUT017                       2007         NaN   \n",
       "6            OUT035                       2004       Small   \n",
       "7            OUT045                       2002         NaN   \n",
       "0            OUT010                       1998         NaN   \n",
       "1            OUT013                       1987        High   \n",
       "3            OUT018                       2009      Medium   \n",
       "5            OUT027                       1985      Medium   \n",
       "\n",
       "  Outlet_Location_Type        Outlet_Type  Item_Outlet_Sales  Item_Identifier  \n",
       "4               Tier 1      Grocery Store             179573              527  \n",
       "8               Tier 1  Supermarket Type1            2118395              930  \n",
       "9               Tier 1  Supermarket Type1            2183969              930  \n",
       "2               Tier 2  Supermarket Type1            2167465              926  \n",
       "6               Tier 2  Supermarket Type1            2268122              930  \n",
       "7               Tier 2  Supermarket Type1            2036725              929  \n",
       "0               Tier 3      Grocery Store             188340              555  \n",
       "1               Tier 3  Supermarket Type1            2142663              932  \n",
       "3               Tier 3  Supermarket Type2            1851822              928  \n",
       "5               Tier 3  Supermarket Type3            3444468              932  "
      ]
     },
     "execution_count": 189,
     "metadata": {},
     "output_type": "execute_result"
    }
   ],
   "source": [
    "outlets =sales_data.groupby(['Outlet_Identifier','Outlet_Establishment_Year','Outlet_Size','Outlet_Location_Type','Outlet_Type'],dropna=False).agg({'Item_Outlet_Sales':'sum','Item_Identifier':'count'}).reset_index()\n",
    "outlets['Item_Outlet_Sales'] = outlets['Item_Outlet_Sales'].astype(int)\n",
    "outlets.sort_values(['Outlet_Location_Type','Outlet_Type'])"
   ]
  },
  {
   "cell_type": "markdown",
   "id": "b16c677a",
   "metadata": {},
   "source": [
    "Based on Item Outlet Sales and Count of distinct Item Ids sold by the outlet, we can impute Outlet Sze as Small for OUT017 and OUT045. Also, for OUT010 , the outlet type can be imputed to be Small "
   ]
  },
  {
   "cell_type": "code",
   "execution_count": 190,
   "id": "d62d04d8",
   "metadata": {},
   "outputs": [],
   "source": [
    "sales_data.loc[sales_data['Outlet_Identifier'].isin(['OUT017','OUT010','OUT045']),'Outlet_Size'] = 'Small'"
   ]
  },
  {
   "cell_type": "markdown",
   "id": "044c4aca",
   "metadata": {},
   "source": [
    "### Dropping Records where item visibility is 0 as they might skew modelling results "
   ]
  },
  {
   "cell_type": "code",
   "execution_count": 191,
   "id": "747e7f72",
   "metadata": {},
   "outputs": [],
   "source": [
    "sales_data = sales_data.drop(sales_data[sales_data['Item_Visibility']==0].index)"
   ]
  },
  {
   "cell_type": "markdown",
   "id": "3a471308",
   "metadata": {},
   "source": [
    "### Exporting updated training data for further transformation and model development"
   ]
  },
  {
   "cell_type": "code",
   "execution_count": 194,
   "id": "9dc353d6",
   "metadata": {},
   "outputs": [],
   "source": [
    "sales_data.to_csv('updated_train.csv',index=False)"
   ]
  }
 ],
 "metadata": {
  "kernelspec": {
   "display_name": "Python 3 (ipykernel)",
   "language": "python",
   "name": "python3"
  },
  "language_info": {
   "codemirror_mode": {
    "name": "ipython",
    "version": 3
   },
   "file_extension": ".py",
   "mimetype": "text/x-python",
   "name": "python",
   "nbconvert_exporter": "python",
   "pygments_lexer": "ipython3",
   "version": "3.10.9"
  }
 },
 "nbformat": 4,
 "nbformat_minor": 5
}
